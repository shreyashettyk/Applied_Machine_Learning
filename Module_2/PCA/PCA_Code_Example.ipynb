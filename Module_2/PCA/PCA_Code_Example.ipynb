{
 "cells": [
  {
   "cell_type": "markdown",
   "metadata": {
    "colab_type": "text",
    "id": "xRj-iblEQGi8"
   },
   "source": [
    "# Load MNIST Data "
   ]
  },
  {
   "cell_type": "code",
   "execution_count": 39,
   "metadata": {
    "colab": {
     "base_uri": "https://localhost:8080/",
     "height": 151
    },
    "colab_type": "code",
    "executionInfo": {
     "elapsed": 6820,
     "status": "ok",
     "timestamp": 1600755415543,
     "user": {
      "displayName": "Applied AI Course",
      "photoUrl": "https://lh3.googleusercontent.com/a-/AOh14GjjpR94Niu_srJxsFT_3bp9vDfqrjd2Zx94jDQdMg=s64",
      "userId": "06629147635963609455"
     },
     "user_tz": -330
    },
    "id": "wp-ij13HQGi-",
    "outputId": "4ee335ae-8b2d-434e-b216-58387aef5edc"
   },
   "outputs": [
    {
     "name": "stdout",
     "output_type": "stream",
     "text": [
      "   label  pixel0  pixel1  pixel2  pixel3  pixel4  pixel5  pixel6  pixel7  \\\n",
      "0      1       0       0       0       0       0       0       0       0   \n",
      "1      0       0       0       0       0       0       0       0       0   \n",
      "2      1       0       0       0       0       0       0       0       0   \n",
      "3      4       0       0       0       0       0       0       0       0   \n",
      "4      0       0       0       0       0       0       0       0       0   \n",
      "\n",
      "   pixel8    ...     pixel774  pixel775  pixel776  pixel777  pixel778  \\\n",
      "0       0    ...            0         0         0         0         0   \n",
      "1       0    ...            0         0         0         0         0   \n",
      "2       0    ...            0         0         0         0         0   \n",
      "3       0    ...            0         0         0         0         0   \n",
      "4       0    ...            0         0         0         0         0   \n",
      "\n",
      "   pixel779  pixel780  pixel781  pixel782  pixel783  \n",
      "0         0         0         0         0         0  \n",
      "1         0         0         0         0         0  \n",
      "2         0         0         0         0         0  \n",
      "3         0         0         0         0         0  \n",
      "4         0         0         0         0         0  \n",
      "\n",
      "[5 rows x 785 columns]\n"
     ]
    }
   ],
   "source": [
    "# MNIST dataset downloaded from Kaggle : \n",
    "#https://www.kaggle.com/c/digit-recognizer/data\n",
    "\n",
    "# Functions to read and show images.\n",
    "\n",
    "import numpy as np\n",
    "import pandas as pd\n",
    "import matplotlib.pyplot as plt\n",
    "\n",
    "\n",
    "   \n",
    "d0 = pd.read_csv('mnist_train.csv')\n",
    "\n",
    "print(d0.head(5)) # print first five rows of d0.\n",
    "\n",
    "# save the labels into a variable l.\n",
    "l = d0['label']\n",
    "\n",
    "# Drop the label feature and store the pixel data in d.\n",
    "d = d0.drop(\"label\",axis=1)"
   ]
  },
  {
   "cell_type": "code",
   "execution_count": 40,
   "metadata": {
    "colab": {
     "base_uri": "https://localhost:8080/",
     "height": 50
    },
    "colab_type": "code",
    "executionInfo": {
     "elapsed": 2180,
     "status": "ok",
     "timestamp": 1600755420669,
     "user": {
      "displayName": "Applied AI Course",
      "photoUrl": "https://lh3.googleusercontent.com/a-/AOh14GjjpR94Niu_srJxsFT_3bp9vDfqrjd2Zx94jDQdMg=s64",
      "userId": "06629147635963609455"
     },
     "user_tz": -330
    },
    "id": "TTAYdlDqQGjE",
    "outputId": "ce592731-6219-4fc0-bbd5-f98e526eb275"
   },
   "outputs": [
    {
     "name": "stdout",
     "output_type": "stream",
     "text": [
      "(42000, 784)\n",
      "(42000,)\n"
     ]
    }
   ],
   "source": [
    "print(d.shape)\n",
    "print(l.shape)"
   ]
  },
  {
   "cell_type": "code",
   "execution_count": 41,
   "metadata": {
    "colab": {
     "base_uri": "https://localhost:8080/",
     "height": 445
    },
    "colab_type": "code",
    "executionInfo": {
     "elapsed": 1660,
     "status": "ok",
     "timestamp": 1600755443568,
     "user": {
      "displayName": "Applied AI Course",
      "photoUrl": "https://lh3.googleusercontent.com/a-/AOh14GjjpR94Niu_srJxsFT_3bp9vDfqrjd2Zx94jDQdMg=s64",
      "userId": "06629147635963609455"
     },
     "user_tz": -330
    },
    "id": "OFPxxtvlQGjJ",
    "outputId": "aa2580b6-39c3-4722-87c5-9b59d035a67c"
   },
   "outputs": [
    {
     "name": "stderr",
     "output_type": "stream",
     "text": [
      "C:\\Anaconda3\\lib\\site-packages\\ipykernel_launcher.py:5: FutureWarning: Method .as_matrix will be removed in a future version. Use .values instead.\n",
      "  \"\"\"\n"
     ]
    },
    {
     "data": {
      "image/png": "[encoded data removed]",
      "text/plain": [
       "<Figure size 504x504 with 1 Axes>"
      ]
     },
     "metadata": {},
     "output_type": "display_data"
    },
    {
     "name": "stdout",
     "output_type": "stream",
     "text": [
      "0\n"
     ]
    }
   ],
   "source": [
    "# display or plot a number.\n",
    "plt.figure(figsize=(7,7))\n",
    "idx = 1\n",
    "\n",
    "grid_data = d.iloc[idx].as_matrix().reshape(28,28)  # reshape from 1d to 2d pixel array\n",
    "plt.imshow(grid_data, interpolation = \"none\", cmap = \"gray\")\n",
    "plt.show()\n",
    "\n",
    "print(l[idx])"
   ]
  },
  {
   "cell_type": "markdown",
   "metadata": {
    "colab_type": "text",
    "id": "uF4ViytmQGjO"
   },
   "source": [
    "#  2D Visualization using PCA "
   ]
  },
  {
   "cell_type": "code",
   "execution_count": 42,
   "metadata": {
    "colab": {
     "base_uri": "https://localhost:8080/",
     "height": 34
    },
    "colab_type": "code",
    "executionInfo": {
     "elapsed": 1416,
     "status": "ok",
     "timestamp": 1598462866371,
     "user": {
      "displayName": "Applied AI Course",
      "photoUrl": "https://lh3.googleusercontent.com/a-/AOh14GjjpR94Niu_srJxsFT_3bp9vDfqrjd2Zx94jDQdMg=s64",
      "userId": "06629147635963609455"
     },
     "user_tz": -330
    },
    "id": "6RWnz578QGjP",
    "outputId": "0b4b5b1b-96a5-492c-aa79-b95422bfb4e3"
   },
   "outputs": [
    {
     "name": "stdout",
     "output_type": "stream",
     "text": [
      "the shape of sample data =  (15000, 784)\n"
     ]
    }
   ],
   "source": [
    "# Pick first 15K data-points to work on for time-effeciency.\n",
    "#Excercise: Perform the same analysis on all of 42K data-points.\n",
    "\n",
    "labels = l.head(15000)\n",
    "data = d.head(15000)\n",
    "\n",
    "print(\"the shape of sample data = \", data.shape)\n"
   ]
  },
  {
   "cell_type": "code",
   "execution_count": 43,
   "metadata": {
    "colab": {
     "base_uri": "https://localhost:8080/",
     "height": 34
    },
    "colab_type": "code",
    "executionInfo": {
     "elapsed": 1698,
     "status": "ok",
     "timestamp": 1598462871798,
     "user": {
      "displayName": "Applied AI Course",
      "photoUrl": "https://lh3.googleusercontent.com/a-/AOh14GjjpR94Niu_srJxsFT_3bp9vDfqrjd2Zx94jDQdMg=s64",
      "userId": "06629147635963609455"
     },
     "user_tz": -330
    },
    "id": "9qWXuMacQGjU",
    "outputId": "d2f6d210-cd15-4e56-9d7f-8f05fb6af6ac"
   },
   "outputs": [
    {
     "name": "stdout",
     "output_type": "stream",
     "text": [
      "(15000, 784)\n"
     ]
    }
   ],
   "source": [
    "# Data-preprocessing: Standardizing the data\n",
    "\n",
    "from sklearn.preprocessing import StandardScaler\n",
    "standardized_data = StandardScaler().fit_transform(data)\n",
    "print(standardized_data.shape)\n"
   ]
  },
  {
   "cell_type": "code",
   "execution_count": 44,
   "metadata": {
    "colab": {
     "base_uri": "https://localhost:8080/",
     "height": 34
    },
    "colab_type": "code",
    "executionInfo": {
     "elapsed": 1481,
     "status": "ok",
     "timestamp": 1598462877052,
     "user": {
      "displayName": "Applied AI Course",
      "photoUrl": "https://lh3.googleusercontent.com/a-/AOh14GjjpR94Niu_srJxsFT_3bp9vDfqrjd2Zx94jDQdMg=s64",
      "userId": "06629147635963609455"
     },
     "user_tz": -330
    },
    "id": "ho9hboDkQGjb",
    "outputId": "68a75918-5984-4d42-9065-51c2eff0651c"
   },
   "outputs": [
    {
     "name": "stdout",
     "output_type": "stream",
     "text": [
      "The shape of variance matrix =  (784, 784)\n"
     ]
    }
   ],
   "source": [
    "#find the co-variance matrix which is : A^T * A\n",
    "sample_data = standardized_data\n",
    "\n",
    "# matrix multiplication using numpy\n",
    "covar_matrix = np.matmul(sample_data.T , sample_data)\n",
    "\n",
    "print ( \"The shape of variance matrix = \", covar_matrix.shape)\n"
   ]
  },
  {
   "cell_type": "code",
   "execution_count": 45,
   "metadata": {
    "colab": {
     "base_uri": "https://localhost:8080/",
     "height": 50
    },
    "colab_type": "code",
    "executionInfo": {
     "elapsed": 1982,
     "status": "ok",
     "timestamp": 1598462896759,
     "user": {
      "displayName": "Applied AI Course",
      "photoUrl": "https://lh3.googleusercontent.com/a-/AOh14GjjpR94Niu_srJxsFT_3bp9vDfqrjd2Zx94jDQdMg=s64",
      "userId": "06629147635963609455"
     },
     "user_tz": -330
    },
    "id": "mtlKyc-9QGjg",
    "outputId": "235983d4-39dc-40e8-8d19-44d2179554e2"
   },
   "outputs": [
    {
     "name": "stdout",
     "output_type": "stream",
     "text": [
      "<class 'numpy.ndarray'>\n",
      "Shape of eigen vectors =  (784, 2)\n",
      "Updated shape of eigen vectors =  (2, 784)\n"
     ]
    }
   ],
   "source": [
    "# finding the top two eigen-values and corresponding eigen-vectors \n",
    "# for projecting onto a 2-Dim space.\n",
    "\n",
    "from scipy.linalg import eigh \n",
    "\n",
    "# the parameter 'eigvals' is defined (low value to heigh value) \n",
    "# eigh function will return the eigen values in asending order\n",
    "# this code generates only the top 2 (782 and 783) eigenvalues.\n",
    "values, vectors = eigh(covar_matrix, eigvals=(782,783))\n",
    "print(type(vectors))\n",
    "print(\"Shape of eigen vectors = \",vectors.shape)\n",
    "# converting the eigen vectors into (2,d) shape for easyness of further computations\n",
    "vectors = vectors.T\n",
    "\n",
    "print(\"Updated shape of eigen vectors = \",vectors.shape)\n",
    "# here the vectors[1] represent the eigen vector corresponding 1st principal eigen vector\n",
    "# here the vectors[0] represent the eigen vector corresponding 2nd principal eigen vector"
   ]
  },
  {
   "cell_type": "code",
   "execution_count": 46,
   "metadata": {
    "colab": {
     "base_uri": "https://localhost:8080/",
     "height": 34
    },
    "colab_type": "code",
    "executionInfo": {
     "elapsed": 1493,
     "status": "ok",
     "timestamp": 1598462899637,
     "user": {
      "displayName": "Applied AI Course",
      "photoUrl": "https://lh3.googleusercontent.com/a-/AOh14GjjpR94Niu_srJxsFT_3bp9vDfqrjd2Zx94jDQdMg=s64",
      "userId": "06629147635963609455"
     },
     "user_tz": -330
    },
    "id": "zfQYzUaKQGjl",
    "outputId": "1071d016-2a1c-4511-9579-a526f10b04ea"
   },
   "outputs": [
    {
     "name": "stdout",
     "output_type": "stream",
     "text": [
      " resultanat new data points' shape  (2, 784) X (784, 15000)  =  (2, 15000)\n"
     ]
    }
   ],
   "source": [
    "# projecting the original data sample on the plane \n",
    "#formed by two principal eigen vectors by vector-vector multiplication.\n",
    "\n",
    "import matplotlib.pyplot as plt\n",
    "new_coordinates = np.matmul(vectors, sample_data.T)\n",
    "\n",
    "print (\" resultanat new data points' shape \", vectors.shape, \"X\", sample_data.T.shape,\" = \", new_coordinates.shape)"
   ]
  },
  {
   "cell_type": "code",
   "execution_count": 47,
   "metadata": {
    "colab": {
     "base_uri": "https://localhost:8080/",
     "height": 118
    },
    "colab_type": "code",
    "executionInfo": {
     "elapsed": 1563,
     "status": "ok",
     "timestamp": 1598462902196,
     "user": {
      "displayName": "Applied AI Course",
      "photoUrl": "https://lh3.googleusercontent.com/a-/AOh14GjjpR94Niu_srJxsFT_3bp9vDfqrjd2Zx94jDQdMg=s64",
      "userId": "06629147635963609455"
     },
     "user_tz": -330
    },
    "id": "q_5hc304QGjp",
    "outputId": "ab87217d-da90-4d08-f779-29f2adbbd81e"
   },
   "outputs": [
    {
     "name": "stdout",
     "output_type": "stream",
     "text": [
      "(15000,)\n",
      "   1st_principal  2nd_principal  label\n",
      "0      -5.558661      -5.043558    1.0\n",
      "1       6.193635      19.305278    0.0\n",
      "2      -1.909878      -7.678775    1.0\n",
      "3       5.525748      -0.464845    4.0\n",
      "4       6.366527      26.644289    0.0\n"
     ]
    }
   ],
   "source": [
    "import pandas as pd\n",
    "\n",
    "# appending label to the 2d projected data\n",
    "print(labels.shape)\n",
    "new_coordinates = np.vstack((new_coordinates, labels)).T\n",
    "\n",
    "# creating a new data frame for ploting the labeled points.\n",
    "dataframe = pd.DataFrame(data=new_coordinates, columns=[\"1st_principal\", \"2nd_principal\", \"label\"])\n",
    "print(dataframe.head())"
   ]
  },
  {
   "cell_type": "code",
   "execution_count": 48,
   "metadata": {
    "colab": {},
    "colab_type": "code",
    "id": "cz7q6UCbvA4K"
   },
   "outputs": [],
   "source": [
    "import pandas as pd\n",
    "df=pd.DataFrame()\n",
    "df['1st']=[-5.558661,-5.043558,6.193635 ,19.305278]\n",
    "df['2nd']=[-1.558661,-2.043558,2.193635 ,9.305278]\n",
    "df['label']=[1,2,3,4]"
   ]
  },
  {
   "cell_type": "code",
   "execution_count": 49,
   "metadata": {
    "colab": {
     "base_uri": "https://localhost:8080/",
     "height": 494
    },
    "colab_type": "code",
    "executionInfo": {
     "elapsed": 2152,
     "status": "ok",
     "timestamp": 1598461839229,
     "user": {
      "displayName": "Applied AI Course",
      "photoUrl": "https://lh3.googleusercontent.com/a-/AOh14GjjpR94Niu_srJxsFT_3bp9vDfqrjd2Zx94jDQdMg=s64",
      "userId": "06629147635963609455"
     },
     "user_tz": -330
    },
    "id": "tphijoAQu4xi",
    "outputId": "d89f0efc-e2b2-4314-ff68-fb2ba08c7fdc"
   },
   "outputs": [
    {
     "data": {
      "image/png": "[encoded data removed]",
      "text/plain": [
       "<Figure size 474.375x432 with 1 Axes>"
      ]
     },
     "metadata": {},
     "output_type": "display_data"
    }
   ],
   "source": [
    "import seaborn as sn\n",
    "import matplotlib.pyplot as plt\n",
    "sn.FacetGrid(df, hue=\"label\", size=6).map(plt.scatter, '1st', '2nd').add_legend()\n",
    "plt.show()"
   ]
  },
  {
   "cell_type": "code",
   "execution_count": 50,
   "metadata": {
    "colab": {
     "base_uri": "https://localhost:8080/",
     "height": 296
    },
    "colab_type": "code",
    "executionInfo": {
     "elapsed": 1552,
     "status": "ok",
     "timestamp": 1598461914402,
     "user": {
      "displayName": "Applied AI Course",
      "photoUrl": "https://lh3.googleusercontent.com/a-/AOh14GjjpR94Niu_srJxsFT_3bp9vDfqrjd2Zx94jDQdMg=s64",
      "userId": "06629147635963609455"
     },
     "user_tz": -330
    },
    "id": "0XGcis_bvzNG",
    "outputId": "caa2d2b0-b7d3-40e2-9b20-8078cf064e56"
   },
   "outputs": [
    {
     "ename": "AttributeError",
     "evalue": "module 'seaborn' has no attribute 'scatterplot'",
     "output_type": "error",
     "traceback": [
      "\u001b[1;31m---------------------------------------------------------------------------\u001b[0m",
      "\u001b[1;31mAttributeError\u001b[0m                            Traceback (most recent call last)",
      "\u001b[1;32m<ipython-input-50-a2b99594f75d>\u001b[0m in \u001b[0;36m<module>\u001b[1;34m()\u001b[0m\n\u001b[1;32m----> 1\u001b[1;33m \u001b[0msn\u001b[0m\u001b[1;33m.\u001b[0m\u001b[0mscatterplot\u001b[0m\u001b[1;33m(\u001b[0m\u001b[0mx\u001b[0m\u001b[1;33m=\u001b[0m\u001b[1;34m\"1st\"\u001b[0m\u001b[1;33m,\u001b[0m\u001b[0my\u001b[0m\u001b[1;33m=\u001b[0m\u001b[1;34m\"2nd\"\u001b[0m\u001b[1;33m,\u001b[0m\u001b[0mhue\u001b[0m\u001b[1;33m=\u001b[0m\u001b[1;34m\"label\"\u001b[0m\u001b[1;33m,\u001b[0m\u001b[0mdata\u001b[0m\u001b[1;33m=\u001b[0m\u001b[0mdf\u001b[0m\u001b[1;33m)\u001b[0m\u001b[1;33m\u001b[0m\u001b[0m\n\u001b[0m",
      "\u001b[1;31mAttributeError\u001b[0m: module 'seaborn' has no attribute 'scatterplot'"
     ]
    }
   ],
   "source": [
    "sn.scatterplot(x=\"1st\",y=\"2nd\",hue=\"label\",data=df)"
   ]
  },
  {
   "cell_type": "code",
   "execution_count": null,
   "metadata": {
    "colab": {
     "base_uri": "https://localhost:8080/",
     "height": 494
    },
    "colab_type": "code",
    "executionInfo": {
     "elapsed": 2769,
     "status": "ok",
     "timestamp": 1598462923993,
     "user": {
      "displayName": "Applied AI Course",
      "photoUrl": "https://lh3.googleusercontent.com/a-/AOh14GjjpR94Niu_srJxsFT_3bp9vDfqrjd2Zx94jDQdMg=s64",
      "userId": "06629147635963609455"
     },
     "user_tz": -330
    },
    "id": "fGQ6V_LiQGjs",
    "outputId": "29fbef95-e85f-4ef3-c542-3b7426f3580a"
   },
   "outputs": [],
   "source": [
    "# ploting the 2d data points with seaborn\n",
    "import seaborn as sn\n",
    "sn.FacetGrid(dataframe, hue=\"label\", size=6).map(plt.scatter, '1st_principal', '2nd_principal').add_legend()\n",
    "plt.show()"
   ]
  },
  {
   "cell_type": "code",
   "execution_count": null,
   "metadata": {
    "colab": {
     "base_uri": "https://localhost:8080/",
     "height": 297
    },
    "colab_type": "code",
    "executionInfo": {
     "elapsed": 5567,
     "status": "ok",
     "timestamp": 1598463154042,
     "user": {
      "displayName": "Applied AI Course",
      "photoUrl": "https://lh3.googleusercontent.com/a-/AOh14GjjpR94Niu_srJxsFT_3bp9vDfqrjd2Zx94jDQdMg=s64",
      "userId": "06629147635963609455"
     },
     "user_tz": -330
    },
    "id": "drHOQV6w0Kao",
    "outputId": "22ce5735-36ba-43a8-dea8-88b3c4e1bac6"
   },
   "outputs": [],
   "source": [
    "sn.scatterplot(x=\"1st_principal\",y=\"2nd_principal\",legend=\"full\",hue=\"label\",data=dataframe)"
   ]
  },
  {
   "cell_type": "markdown",
   "metadata": {
    "colab_type": "text",
    "id": "g88y_UkgQGjw"
   },
   "source": [
    "# PCA using Scikit-Learn"
   ]
  },
  {
   "cell_type": "code",
   "execution_count": 65,
   "metadata": {
    "colab": {},
    "colab_type": "code",
    "id": "2Od_a_6uQGjx"
   },
   "outputs": [],
   "source": [
    "# initializing the pca\n",
    "from sklearn import decomposition\n",
    "pca = decomposition.PCA()\n"
   ]
  },
  {
   "cell_type": "code",
   "execution_count": 66,
   "metadata": {
    "colab": {},
    "colab_type": "code",
    "id": "L_Y6hEhEQGjy",
    "outputId": "94143f7b-fc55-4ffc-c8a0-5e6e44a488a2"
   },
   "outputs": [
    {
     "name": "stdout",
     "output_type": "stream",
     "text": [
      "shape of pca_reduced.shape =  (15000, 2)\n"
     ]
    }
   ],
   "source": [
    "# configuring the parameteres\n",
    "# the number of components = 2\n",
    "pca.n_components = 2\n",
    "pca_data = pca.fit_transform(sample_data)\n",
    "\n",
    "# pca_reduced will contain the 2-d projects of simple data\n",
    "print(\"shape of pca_reduced.shape = \", pca_data.shape)\n",
    "\n"
   ]
  },
  {
   "cell_type": "code",
   "execution_count": 67,
   "metadata": {
    "colab": {},
    "colab_type": "code",
    "id": "tISf8ZwJQGj1",
    "outputId": "dbf43b79-b3ec-435b-8109-9df804773a40"
   },
   "outputs": [
    {
     "name": "stdout",
     "output_type": "stream",
     "text": [
      "(15000, 3)\n",
      "   1st_principal  2nd_principal  label\n",
      "0      -5.043591      -5.558345    1.0\n",
      "1      19.305272       6.193580    0.0\n",
      "2      -7.678756      -1.910060    1.0\n",
      "3      -0.464862       5.526145    4.0\n",
      "4      26.644288       6.366428    0.0\n"
     ]
    },
    {
     "data": {
      "image/png": "[encoded data removed]",
      "text/plain": [
       "<Figure size 483.875x432 with 1 Axes>"
      ]
     },
     "metadata": {},
     "output_type": "display_data"
    }
   ],
   "source": [
    "# attaching the label for each 2-d data point \n",
    "pca_data = np.vstack((pca_data.T, labels)).T\n",
    "print(pca_data.shape)\n",
    "# creating a new data fram which help us in ploting the result data\n",
    "pca_df = pd.DataFrame(data=pca_data, columns=(\"1st_principal\", \"2nd_principal\", \"label\"))\n",
    "print(pca_df.head())\n",
    "sn.FacetGrid(pca_df, hue=\"label\", size=6).map(plt.scatter, '1st_principal', '2nd_principal').add_legend()\n",
    "plt.show()"
   ]
  },
  {
   "cell_type": "markdown",
   "metadata": {
    "colab_type": "text",
    "id": "WfyEnV8-QGj4"
   },
   "source": [
    "# PCA for dimensionality redcution (not for visualization)"
   ]
  },
  {
   "cell_type": "code",
   "execution_count": 70,
   "metadata": {
    "colab": {},
    "colab_type": "code",
    "id": "d8blOjJYQGj5",
    "outputId": "d94f2779-d78e-45dc-a99f-28b6d34340fc"
   },
   "outputs": [
    {
     "name": "stdout",
     "output_type": "stream",
     "text": [
      "[4.03839784e+01 2.90374397e+01 2.71119525e+01 2.10174088e+01\n",
      " 1.80656409e+01 1.57600109e+01 1.36864892e+01 1.27018200e+01\n",
      " 1.11151810e+01 9.97722063e+00 9.61186466e+00 8.65069774e+00\n",
      " 8.15573292e+00 7.91395239e+00 7.54862710e+00 7.22734563e+00\n",
      " 6.77517388e+00 6.61893402e+00 6.49002121e+00 6.30544042e+00\n",
      " 6.00412397e+00 5.69049312e+00 5.46541444e+00 5.32205969e+00\n",
      " 5.24796115e+00 4.95787186e+00 4.91052645e+00 4.81898017e+00\n",
      " 4.60277022e+00 4.48980799e+00 4.37160562e+00 4.26898932e+00\n",
      " 4.15489563e+00 4.12518543e+00 4.01115811e+00 3.99670900e+00\n",
      " 3.93965208e+00 3.85950112e+00 3.74813282e+00 3.65030404e+00\n",
      " 3.56092342e+00 3.47080514e+00 3.46374503e+00 3.40197083e+00\n",
      " 3.31114486e+00 3.24420096e+00 3.23191769e+00 3.15906584e+00\n",
      " 3.10463071e+00 3.03809000e+00 3.01881103e+00 2.97595132e+00\n",
      " 2.95160902e+00 2.84846678e+00 2.78811359e+00 2.76852245e+00\n",
      " 2.74353035e+00 2.69796335e+00 2.65116952e+00 2.60300545e+00\n",
      " 2.54197756e+00 2.51291437e+00 2.46963692e+00 2.41157978e+00\n",
      " 2.38148829e+00 2.37469469e+00 2.33719807e+00 2.32231207e+00\n",
      " 2.27300951e+00 2.25798385e+00 2.22768397e+00 2.20802136e+00\n",
      " 2.18667651e+00 2.11925176e+00 2.09833083e+00 2.09503791e+00\n",
      " 2.07218950e+00 2.06428650e+00 2.03029513e+00 2.01071121e+00\n",
      " 2.00322673e+00 1.97480671e+00 1.94800891e+00 1.91971216e+00\n",
      " 1.89741899e+00 1.87878026e+00 1.86464533e+00 1.84796613e+00\n",
      " 1.81065590e+00 1.79492753e+00 1.77300581e+00 1.75898119e+00\n",
      " 1.73257417e+00 1.72933961e+00 1.71078578e+00 1.65773552e+00\n",
      " 1.64046211e+00 1.63235326e+00 1.62948498e+00 1.60168258e+00\n",
      " 1.58594585e+00 1.56948192e+00 1.53794631e+00 1.51970641e+00\n",
      " 1.50308217e+00 1.49179942e+00 1.47107019e+00 1.45516758e+00\n",
      " 1.44153954e+00 1.42566318e+00 1.41966996e+00 1.40423639e+00\n",
      " 1.40005384e+00 1.38070117e+00 1.37516553e+00 1.33480835e+00\n",
      " 1.32428190e+00 1.31484707e+00 1.29280608e+00 1.28555048e+00\n",
      " 1.28228163e+00 1.27501641e+00 1.26637719e+00 1.25119735e+00\n",
      " 1.24999124e+00 1.22021829e+00 1.21406041e+00 1.19214351e+00\n",
      " 1.18557394e+00 1.16699447e+00 1.15609665e+00 1.14813676e+00\n",
      " 1.13185320e+00 1.12618036e+00 1.12235242e+00 1.10855894e+00\n",
      " 1.09341649e+00 1.08032604e+00 1.07390115e+00 1.06024133e+00\n",
      " 1.05681754e+00 1.04089585e+00 1.02816176e+00 1.02358571e+00\n",
      " 1.01694814e+00 1.01260312e+00 1.00505633e+00 1.00219295e+00\n",
      " 9.95126155e-01 9.86434458e-01 9.68796353e-01 9.64646232e-01\n",
      " 9.58093706e-01 9.53267438e-01 9.50940244e-01 9.41583741e-01\n",
      " 9.34099911e-01 9.26873671e-01 9.19611682e-01 9.15654285e-01\n",
      " 9.03908667e-01 8.97672703e-01 8.93218759e-01 8.76821308e-01\n",
      " 8.62551455e-01 8.60558863e-01 8.51526712e-01 8.47301703e-01\n",
      " 8.35468368e-01 8.32213567e-01 8.21934906e-01 8.09025515e-01\n",
      " 8.01161457e-01 7.97518300e-01 7.92099078e-01 7.84385658e-01\n",
      " 7.74146038e-01 7.71603007e-01 7.54304522e-01 7.49202710e-01\n",
      " 7.38287797e-01 7.31434833e-01 7.26209185e-01 7.19412568e-01\n",
      " 7.18774902e-01 7.15540922e-01 7.06286776e-01 6.99230552e-01\n",
      " 6.92443508e-01 6.86822056e-01 6.80864674e-01 6.71034720e-01\n",
      " 6.67786842e-01 6.62968898e-01 6.60835596e-01 6.52822193e-01\n",
      " 6.40695632e-01 6.37787749e-01 6.32143275e-01 6.29219575e-01\n",
      " 6.23269276e-01 6.18730251e-01 6.15655240e-01 6.09905839e-01\n",
      " 5.94430877e-01 5.93004643e-01 5.85639236e-01 5.79005307e-01\n",
      " 5.72881294e-01 5.69847338e-01 5.66700937e-01 5.65222379e-01\n",
      " 5.60748413e-01 5.53682789e-01 5.42270321e-01 5.36071622e-01\n",
      " 5.33986068e-01 5.28928262e-01 5.24658902e-01 5.20626893e-01\n",
      " 5.15391939e-01 5.10279691e-01 5.03848662e-01 5.01342411e-01\n",
      " 4.99342544e-01 4.89805651e-01 4.85044551e-01 4.82018736e-01\n",
      " 4.77539016e-01 4.74314555e-01 4.70824776e-01 4.60974047e-01\n",
      " 4.58790138e-01 4.54385901e-01 4.51724735e-01 4.48885687e-01\n",
      " 4.42280339e-01 4.35296822e-01 4.33111849e-01 4.27737755e-01\n",
      " 4.22751698e-01 4.20510680e-01 4.14882494e-01 4.12080564e-01\n",
      " 4.06010596e-01 4.01478285e-01 3.98767474e-01 3.97455568e-01\n",
      " 3.92687738e-01 3.91464792e-01 3.87135792e-01 3.84055623e-01\n",
      " 3.81979753e-01 3.79925056e-01 3.74607879e-01 3.70403258e-01\n",
      " 3.68602206e-01 3.59609589e-01 3.59017576e-01 3.52683852e-01\n",
      " 3.52588272e-01 3.48523744e-01 3.41742139e-01 3.40362662e-01\n",
      " 3.39031071e-01 3.35528428e-01 3.30286007e-01 3.27864690e-01\n",
      " 3.24338831e-01 3.23303162e-01 3.21112878e-01 3.19258243e-01\n",
      " 3.12715171e-01 3.10653926e-01 3.09099852e-01 3.07662836e-01\n",
      " 3.01615197e-01 2.97789140e-01 2.95390275e-01 2.92816902e-01\n",
      " 2.91521914e-01 2.88454059e-01 2.85956955e-01 2.83901650e-01\n",
      " 2.83020419e-01 2.80496960e-01 2.76142723e-01 2.74204517e-01\n",
      " 2.72455983e-01 2.70942729e-01 2.67999939e-01 2.65569076e-01\n",
      " 2.64498782e-01 2.60559656e-01 2.60237492e-01 2.59719576e-01\n",
      " 2.56104097e-01 2.52388273e-01 2.51527381e-01 2.49938487e-01\n",
      " 2.48104189e-01 2.44515863e-01 2.43229296e-01 2.41529700e-01\n",
      " 2.36420013e-01 2.33815699e-01 2.31411120e-01 2.29304707e-01\n",
      " 2.27985545e-01 2.26296349e-01 2.25116837e-01 2.24331470e-01\n",
      " 2.22034437e-01 2.21506016e-01 2.20539998e-01 2.16809654e-01\n",
      " 2.15469281e-01 2.14807082e-01 2.12996118e-01 2.09844389e-01\n",
      " 2.09508554e-01 2.07565790e-01 2.05373462e-01 2.03672098e-01\n",
      " 2.01492534e-01 2.00765274e-01 1.98436567e-01 1.97721878e-01\n",
      " 1.96941384e-01 1.95596801e-01 1.94285009e-01 1.91964947e-01\n",
      " 1.88992825e-01 1.88599136e-01 1.88471703e-01 1.87096219e-01\n",
      " 1.85714707e-01 1.84687441e-01 1.84191062e-01 1.81330702e-01\n",
      " 1.78234731e-01 1.77703311e-01 1.76850926e-01 1.74891502e-01\n",
      " 1.74274644e-01 1.73840312e-01 1.71711468e-01 1.69996182e-01\n",
      " 1.69032111e-01 1.68339789e-01 1.66990218e-01 1.65094957e-01\n",
      " 1.64284539e-01 1.63443281e-01 1.61169264e-01 1.60143847e-01\n",
      " 1.58453130e-01 1.58178068e-01 1.56312817e-01 1.56138311e-01\n",
      " 1.54991383e-01 1.54665713e-01 1.53033069e-01 1.51807907e-01\n",
      " 1.50891666e-01 1.50140986e-01 1.49441197e-01 1.47908784e-01\n",
      " 1.47023141e-01 1.46627768e-01 1.45333709e-01 1.43352669e-01\n",
      " 1.42604412e-01 1.40737552e-01 1.39750699e-01 1.39228879e-01\n",
      " 1.39072119e-01 1.38072269e-01 1.37398801e-01 1.36186305e-01\n",
      " 1.34500110e-01 1.34370484e-01 1.33175258e-01 1.32850779e-01\n",
      " 1.30991262e-01 1.30621601e-01 1.29954360e-01 1.28734145e-01\n",
      " 1.28162991e-01 1.27554999e-01 1.26501448e-01 1.25598747e-01\n",
      " 1.24340746e-01 1.23782736e-01 1.23417509e-01 1.21949332e-01\n",
      " 1.21649553e-01 1.21051478e-01 1.20893699e-01 1.19797786e-01\n",
      " 1.19373634e-01 1.18423157e-01 1.16704484e-01 1.15704202e-01\n",
      " 1.15283921e-01 1.14818694e-01 1.14209486e-01 1.13497986e-01\n",
      " 1.12628883e-01 1.12281421e-01 1.11158657e-01 1.10828318e-01\n",
      " 1.10406102e-01 1.09423445e-01 1.08655607e-01 1.08254951e-01\n",
      " 1.07139765e-01 1.06965006e-01 1.05836578e-01 1.05056081e-01\n",
      " 1.04715514e-01 1.03530196e-01 1.02310635e-01 1.01813467e-01\n",
      " 1.01127363e-01 1.00577991e-01 1.00058892e-01 9.91088435e-02\n",
      " 9.89789346e-02 9.83080308e-02 9.76649157e-02 9.74586200e-02\n",
      " 9.69435429e-02 9.66034585e-02 9.50177383e-02 9.47100012e-02\n",
      " 9.43661830e-02 9.40036882e-02 9.32564655e-02 9.28849009e-02\n",
      " 9.23085567e-02 9.19545518e-02 9.14611724e-02 9.09864147e-02\n",
      " 9.07290449e-02 9.01214636e-02 8.95045627e-02 8.93189293e-02\n",
      " 8.85797734e-02 8.82053882e-02 8.75217820e-02 8.68115762e-02\n",
      " 8.63944159e-02 8.59209053e-02 8.56576692e-02 8.48075858e-02\n",
      " 8.43479001e-02 8.37066914e-02 8.33169049e-02 8.24935931e-02\n",
      " 8.22610000e-02 8.20903002e-02 8.16587182e-02 8.11393660e-02\n",
      " 8.08671724e-02 8.05105529e-02 8.00324452e-02 7.87627900e-02\n",
      " 7.85356639e-02 7.82102263e-02 7.77944143e-02 7.75245063e-02\n",
      " 7.72117828e-02 7.66584913e-02 7.60798415e-02 7.58422099e-02\n",
      " 7.54301610e-02 7.52082690e-02 7.48225255e-02 7.45350154e-02\n",
      " 7.35545941e-02 7.34794940e-02 7.29932498e-02 7.25798790e-02\n",
      " 7.23690617e-02 7.18715195e-02 7.15303733e-02 7.12969331e-02\n",
      " 7.09536767e-02 7.07879750e-02 7.01181827e-02 7.00473477e-02\n",
      " 6.91857218e-02 6.88268512e-02 6.82298793e-02 6.76607552e-02\n",
      " 6.74100651e-02 6.70156536e-02 6.65484434e-02 6.60201404e-02\n",
      " 6.55435388e-02 6.54605948e-02 6.50866577e-02 6.45435498e-02\n",
      " 6.42116911e-02 6.38302884e-02 6.36688686e-02 6.30179629e-02\n",
      " 6.28526048e-02 6.25778647e-02 6.20265518e-02 6.16497017e-02\n",
      " 6.14211573e-02 6.09603828e-02 6.06876339e-02 6.04773569e-02\n",
      " 6.00958459e-02 5.96259932e-02 5.91630224e-02 5.88766339e-02\n",
      " 5.85041040e-02 5.82517715e-02 5.80105167e-02 5.78423717e-02\n",
      " 5.74549730e-02 5.67930166e-02 5.67226525e-02 5.65164991e-02\n",
      " 5.62140716e-02 5.57743175e-02 5.56788309e-02 5.49562759e-02\n",
      " 5.47428981e-02 5.40018027e-02 5.37734598e-02 5.36734045e-02\n",
      " 5.31946576e-02 5.27780815e-02 5.25752827e-02 5.25362578e-02\n",
      " 5.20402329e-02 5.19179563e-02 5.17395788e-02 5.13467533e-02\n",
      " 5.10133343e-02 5.08367737e-02 5.06935503e-02 5.03330313e-02\n",
      " 5.00226121e-02 4.96789561e-02 4.94276295e-02 4.92452106e-02\n",
      " 4.85967904e-02 4.83230172e-02 4.80896501e-02 4.78557998e-02\n",
      " 4.72529445e-02 4.70969466e-02 4.68336610e-02 4.65988346e-02\n",
      " 4.63495156e-02 4.60886746e-02 4.58415529e-02 4.57120887e-02\n",
      " 4.54919883e-02 4.51324526e-02 4.48737998e-02 4.46726780e-02\n",
      " 4.44531473e-02 4.39492684e-02 4.37960981e-02 4.35111686e-02\n",
      " 4.32014779e-02 4.29949462e-02 4.26103290e-02 4.25216577e-02\n",
      " 4.23385134e-02 4.20438961e-02 4.15067716e-02 4.12549892e-02\n",
      " 4.11157937e-02 4.10339341e-02 4.05737784e-02 4.02619786e-02\n",
      " 4.00935629e-02 4.00535800e-02 3.98906343e-02 3.96103572e-02\n",
      " 3.91052916e-02 3.89984300e-02 3.88830661e-02 3.85977486e-02\n",
      " 3.82299842e-02 3.80160457e-02 3.77023684e-02 3.75245047e-02\n",
      " 3.72920715e-02 3.71538243e-02 3.68106726e-02 3.66034886e-02\n",
      " 3.64340386e-02 3.59132458e-02 3.56861662e-02 3.53665000e-02\n",
      " 3.52713201e-02 3.51563505e-02 3.49326727e-02 3.47815827e-02\n",
      " 3.45646526e-02 3.44197365e-02 3.41098304e-02 3.39116854e-02\n",
      " 3.37187653e-02 3.34800364e-02 3.31264277e-02 3.30379436e-02\n",
      " 3.28327536e-02 3.24378495e-02 3.21233742e-02 3.19129158e-02\n",
      " 3.18537203e-02 3.17020296e-02 3.15814037e-02 3.09856568e-02\n",
      " 3.08661342e-02 3.08086079e-02 3.07099422e-02 3.05323395e-02\n",
      " 3.03072107e-02 3.01085798e-02 2.98688809e-02 2.95638366e-02\n",
      " 2.94552866e-02 2.93630358e-02 2.91848412e-02 2.87300662e-02\n",
      " 2.85095504e-02 2.83932823e-02 2.81335524e-02 2.80137149e-02\n",
      " 2.76442239e-02 2.74968897e-02 2.71558973e-02 2.69610459e-02\n",
      " 2.66752000e-02 2.65847050e-02 2.63949025e-02 2.62572777e-02\n",
      " 2.57968200e-02 2.55599880e-02 2.51720846e-02 2.49596224e-02\n",
      " 2.48029649e-02 2.45838775e-02 2.43514045e-02 2.41741472e-02\n",
      " 2.36276330e-02 2.35812626e-02 2.33171139e-02 2.31612214e-02\n",
      " 2.28026497e-02 2.23843845e-02 2.22196079e-02 2.19529663e-02\n",
      " 2.18193435e-02 2.14887094e-02 2.09838232e-02 2.03331477e-02\n",
      " 2.01156174e-02 1.98600292e-02 1.95082394e-02 1.88352212e-02\n",
      " 1.79060647e-02 1.77106818e-02 1.72511477e-02 1.65012078e-02\n",
      " 4.24073732e-03 6.06468697e-30 3.01683176e-30 1.24490245e-30\n",
      " 1.13636515e-30 1.03091518e-30 9.09075041e-31 7.92003462e-31\n",
      " 6.72984278e-31 6.47085052e-31 5.83972976e-31 4.26104411e-31\n",
      " 4.25451188e-31 2.76624302e-31 1.90553197e-31 1.67513938e-31\n",
      " 1.55008245e-31 1.39435383e-31 1.39321079e-31 1.36332003e-31\n",
      " 1.36332003e-31 1.36332003e-31 1.36332003e-31 1.36332003e-31\n",
      " 1.36332003e-31 1.36332003e-31 1.36332003e-31 1.36332003e-31\n",
      " 1.36332003e-31 1.36332003e-31 1.36332003e-31 1.36332003e-31\n",
      " 1.36332003e-31 1.36332003e-31 1.36332003e-31 1.36332003e-31\n",
      " 1.36332003e-31 1.36332003e-31 1.36332003e-31 1.36332003e-31\n",
      " 1.36332003e-31 1.36332003e-31 1.36332003e-31 1.36332003e-31\n",
      " 1.36332003e-31 1.36332003e-31 1.36332003e-31 1.36332003e-31\n",
      " 1.36332003e-31 1.36332003e-31 1.36332003e-31 1.36332003e-31\n",
      " 1.36332003e-31 1.36332003e-31 1.36332003e-31 1.36332003e-31\n",
      " 1.36332003e-31 1.36332003e-31 1.36332003e-31 1.36332003e-31\n",
      " 1.36332003e-31 1.36332003e-31 1.36332003e-31 1.36332003e-31\n",
      " 1.36332003e-31 1.36332003e-31 1.36332003e-31 1.36332003e-31\n",
      " 1.36332003e-31 1.36332003e-31 1.36332003e-31 1.36332003e-31\n",
      " 1.36332003e-31 1.36332003e-31 1.36332003e-31 1.36332003e-31\n",
      " 1.36332003e-31 1.36332003e-31 1.36332003e-31 1.36332003e-31\n",
      " 1.36332003e-31 1.36332003e-31 1.36332003e-31 1.36332003e-31\n",
      " 1.36332003e-31 1.36332003e-31 1.36332003e-31 1.36332003e-31\n",
      " 1.36332003e-31 1.36332003e-31 1.36332003e-31 1.36332003e-31\n",
      " 1.36332003e-31 1.36332003e-31 1.36332003e-31 1.36332003e-31\n",
      " 1.36332003e-31 1.36332003e-31 1.36332003e-31 1.36332003e-31\n",
      " 1.36332003e-31 1.36332003e-31 1.36332003e-31 1.35015188e-31\n",
      " 1.00899168e-31 3.88896070e-32 1.33297028e-32 4.62096293e-33]\n",
      "<class 'numpy.ndarray'>\n"
     ]
    },
    {
     "data": {
      "image/png": "[encoded data removed]",
      "text/plain": [
       "<Figure size 432x288 with 1 Axes>"
      ]
     },
     "metadata": {},
     "output_type": "display_data"
    }
   ],
   "source": [
    "# PCA for dimensionality redcution (non-visualization)\n",
    "\n",
    "pca.n_components = 784\n",
    "pca_data = pca.fit_transform(sample_data)\n",
    "print(pca.explained_variance_)\n",
    "percentage_var_explained = pca.explained_variance_ / np.sum(pca.explained_variance_);\n",
    "print(type(percentage_var_explained))\n",
    "cum_var_explained = np.cumsum(percentage_var_explained)\n",
    "\n",
    "# Plot the PCA spectrum\n",
    "plt.figure(1, figsize=(6, 4))\n",
    "\n",
    "plt.clf()\n",
    "plt.plot(cum_var_explained, linewidth=2)\n",
    "plt.axis('tight')\n",
    "plt.grid()\n",
    "plt.xlabel('n_components')\n",
    "plt.ylabel('Cumulative_explained_variance')\n",
    "plt.show()\n",
    "\n",
    "\n",
    "# If we take 200-dimensions, approx. 90% of variance is expalined."
   ]
  },
  {
   "cell_type": "markdown",
   "metadata": {
    "colab_type": "text",
    "id": "pTaRTugBQGj7"
   },
   "source": [
    "# t-SNE using Scikit-Learn"
   ]
  },
  {
   "cell_type": "code",
   "execution_count": null,
   "metadata": {
    "colab": {},
    "colab_type": "code",
    "id": "bd2bHAybQGj8",
    "outputId": "5a33ffa1-6459-4fbc-f935-1c341b6dac3c"
   },
   "outputs": [],
   "source": [
    "# TSNE\n",
    "\n",
    "from sklearn.manifold import TSNE\n",
    "\n",
    "# Picking the top 1000 points as TSNE takes a lot of time for 15K points\n",
    "data_1000 = standardized_data[0:1000,:]\n",
    "labels_1000 = labels[0:1000]\n",
    "\n",
    "model = TSNE(n_components=2, random_state=0)\n",
    "# configuring the parameteres\n",
    "# the number of components = 2\n",
    "# default perplexity = 30\n",
    "# default learning rate = 200\n",
    "# default Maximum number of iterations for the optimization = 1000\n",
    "\n",
    "tsne_data = model.fit_transform(data_1000)\n",
    "\n",
    "\n",
    "# creating a new data frame which help us in ploting the result data\n",
    "tsne_data = np.vstack((tsne_data.T, labels_1000)).T\n",
    "tsne_df = pd.DataFrame(data=tsne_data, columns=(\"Dim_1\", \"Dim_2\", \"label\"))\n",
    "\n",
    "# Ploting the result of tsne\n",
    "sn.FacetGrid(tsne_df, hue=\"label\", size=6).map(plt.scatter, 'Dim_1', 'Dim_2').add_legend()\n",
    "plt.show()"
   ]
  },
  {
   "cell_type": "code",
   "execution_count": null,
   "metadata": {
    "colab": {},
    "colab_type": "code",
    "id": "C-jgsYj8QGj_",
    "outputId": "eb0d26ab-1644-403c-8ebf-79e3514f438d"
   },
   "outputs": [],
   "source": [
    "model = TSNE(n_components=2, random_state=0, perplexity=50)\n",
    "tsne_data = model.fit_transform(data_1000) \n",
    "\n",
    "# creating a new data fram which help us in ploting the result data\n",
    "tsne_data = np.vstack((tsne_data.T, labels_1000)).T\n",
    "tsne_df = pd.DataFrame(data=tsne_data, columns=(\"Dim_1\", \"Dim_2\", \"label\"))\n",
    "\n",
    "# Ploting the result of tsne\n",
    "sn.FacetGrid(tsne_df, hue=\"label\", size=6).map(plt.scatter, 'Dim_1', 'Dim_2').add_legend()\n",
    "plt.title('With perplexity = 50')\n",
    "plt.show()"
   ]
  },
  {
   "cell_type": "code",
   "execution_count": null,
   "metadata": {
    "colab": {},
    "colab_type": "code",
    "id": "pCQ460syQGkC",
    "outputId": "3b29a34c-8f2e-4afa-9eca-a27036b8ec90"
   },
   "outputs": [],
   "source": [
    "model = TSNE(n_components=2, random_state=0, perplexity=50,  n_iter=5000)\n",
    "tsne_data = model.fit_transform(data_1000) \n",
    "\n",
    "# creating a new data fram which help us in ploting the result data\n",
    "tsne_data = np.vstack((tsne_data.T, labels_1000)).T\n",
    "tsne_df = pd.DataFrame(data=tsne_data, columns=(\"Dim_1\", \"Dim_2\", \"label\"))\n",
    "\n",
    "# Ploting the result of tsne\n",
    "sn.FacetGrid(tsne_df, hue=\"label\", size=6).map(plt.scatter, 'Dim_1', 'Dim_2').add_legend()\n",
    "plt.title('With perplexity = 50, n_iter=5000')\n",
    "plt.show()"
   ]
  },
  {
   "cell_type": "code",
   "execution_count": null,
   "metadata": {
    "colab": {},
    "colab_type": "code",
    "id": "BkcpBB1MQGkF",
    "outputId": "7634e2ae-a60f-470c-d453-a850a5d7e1b0"
   },
   "outputs": [],
   "source": [
    "model = TSNE(n_components=2, random_state=0, perplexity=2)\n",
    "tsne_data = model.fit_transform(data_1000) \n",
    "\n",
    "# creating a new data fram which help us in ploting the result data\n",
    "tsne_data = np.vstack((tsne_data.T, labels_1000)).T\n",
    "tsne_df = pd.DataFrame(data=tsne_data, columns=(\"Dim_1\", \"Dim_2\", \"label\"))\n",
    "\n",
    "# Ploting the result of tsne\n",
    "sn.FacetGrid(tsne_df, hue=\"label\", size=6).map(plt.scatter, 'Dim_1', 'Dim_2').add_legend()\n",
    "plt.title('With perplexity = 2')\n",
    "plt.show()"
   ]
  },
  {
   "cell_type": "code",
   "execution_count": null,
   "metadata": {
    "colab": {},
    "colab_type": "code",
    "id": "QvMINUG_QGkH"
   },
   "outputs": [],
   "source": [
    "#Excercise: Run the same analysis using 42K points with various \n",
    "#values of perplexity and iterations.\n",
    "\n",
    "# If you use all of the points, you can expect plots like this blog below:\n",
    "# http://colah.github.io/posts/2014-10-Visualizing-MNIST/"
   ]
  },
  {
   "cell_type": "code",
   "execution_count": null,
   "metadata": {
    "colab": {},
    "colab_type": "code",
    "id": "L6T6jHFXQGkK"
   },
   "outputs": [],
   "source": []
  }
 ],
 "metadata": {
  "colab": {
   "name": "13.10#14.9#14.10#15.7.ipynb",
   "provenance": [],
   "toc_visible": true
  },
  "kernelspec": {
   "display_name": "Python 3",
   "language": "python",
   "name": "python3"
  },
  "language_info": {
   "codemirror_mode": {
    "name": "ipython",
    "version": 3
   },
   "file_extension": ".py",
   "mimetype": "text/x-python",
   "name": "python",
   "nbconvert_exporter": "python",
   "pygments_lexer": "ipython3",
   "version": "3.8.5"
  }
 },
 "nbformat": 4,
 "nbformat_minor": 1
}
